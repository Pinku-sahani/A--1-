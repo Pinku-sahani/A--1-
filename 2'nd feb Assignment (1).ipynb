{
 "cells": [
  {
   "cell_type": "markdown",
   "id": "474a3281-d268-48cf-9627-d7165877b149",
   "metadata": {},
   "source": [
    " # Q1. Explain with an example each when to use a for loop and a while loop."
   ]
  },
  {
   "cell_type": "code",
   "execution_count": 4,
   "id": "382b1397-205b-465f-b506-81d203db8492",
   "metadata": {},
   "outputs": [
    {
     "name": "stdout",
     "output_type": "stream",
     "text": [
      "1\n",
      "2\n",
      "3\n",
      "4\n",
      "5\n",
      "5\n",
      "1\n",
      "2\n",
      "3\n",
      "4\n"
     ]
    }
   ],
   "source": [
    "# Use for loop\n",
    "# for loop basically use for print the element to continuos\n",
    "# For Example\n",
    "\n",
    "\n",
    "p = [ 1,2,3,4,5,5,1,2,3,4]\n",
    "for z in p:\n",
    "    print(z)\n",
    "        "
   ]
  },
  {
   "cell_type": "code",
   "execution_count": 3,
   "id": "91ab9d5f-41e7-4fee-a759-decc997b69fe",
   "metadata": {},
   "outputs": [
    {
     "name": "stdout",
     "output_type": "stream",
     "text": [
      "1\n",
      "2\n",
      "3\n",
      "4\n",
      "5\n",
      "6\n",
      "7\n",
      "8\n",
      "9\n",
      "10\n"
     ]
    }
   ],
   "source": [
    "# Use while loop\n",
    "# while loop use to print continue element with condition like condition true print element condition false not print\n",
    "# for Example\n",
    "\n",
    "i= 1\n",
    "while i<=10:\n",
    "    print(i)\n",
    "    i=i+1"
   ]
  },
  {
   "cell_type": "markdown",
   "id": "fca31828-594e-4def-bbfb-605b303a7e0c",
   "metadata": {},
   "source": [
    "# Q2. Write a python program to print the sum and product of the first 10 natural numbers using for\n",
    "# and while loop."
   ]
  },
  {
   "cell_type": "code",
   "execution_count": 13,
   "id": "501ead31-b140-4691-8c81-dfd047bae337",
   "metadata": {},
   "outputs": [
    {
     "name": "stdout",
     "output_type": "stream",
     "text": [
      "1\n",
      "sum is 10 natural number is :  1\n",
      "2\n",
      "sum is 10 natural number is :  3\n",
      "3\n",
      "sum is 10 natural number is :  6\n",
      "4\n",
      "sum is 10 natural number is :  10\n",
      "5\n",
      "sum is 10 natural number is :  15\n",
      "6\n",
      "sum is 10 natural number is :  21\n",
      "7\n",
      "sum is 10 natural number is :  28\n",
      "8\n",
      "sum is 10 natural number is :  36\n",
      "9\n",
      "sum is 10 natural number is :  45\n",
      "10\n",
      "sum is 10 natural number is :  55\n"
     ]
    }
   ],
   "source": [
    "# sum of first 10 natural number with while loop\n",
    "\n",
    "sum = 0\n",
    "i=1\n",
    "while i<=10:\n",
    "    print(i)\n",
    "    sum = sum+i\n",
    "  \n",
    "    i=i+1\n",
    "    print(\"sum is 10 natural number is : \",sum)"
   ]
  },
  {
   "cell_type": "code",
   "execution_count": 15,
   "id": "68cb855c-4dc3-4e5b-92a0-63d534496187",
   "metadata": {},
   "outputs": [
    {
     "name": "stdout",
     "output_type": "stream",
     "text": [
      "1\n",
      "product is 10 natural number is :  1\n",
      "2\n",
      "product is 10 natural number is :  2\n",
      "3\n",
      "product is 10 natural number is :  6\n",
      "4\n",
      "product is 10 natural number is :  24\n",
      "5\n",
      "product is 10 natural number is :  120\n",
      "6\n",
      "product is 10 natural number is :  720\n",
      "7\n",
      "product is 10 natural number is :  5040\n",
      "8\n",
      "product is 10 natural number is :  40320\n",
      "9\n",
      "product is 10 natural number is :  362880\n",
      "10\n",
      "product is 10 natural number is :  3628800\n"
     ]
    }
   ],
   "source": [
    "# product of first 10 natural number with while loop\n",
    "\n",
    "product = 1\n",
    "i=1\n",
    "while i<=10:\n",
    "    print(i)\n",
    "    product = product*i\n",
    "  \n",
    "    i=i+1\n",
    "    print(\"product is 10 natural number is : \",product)"
   ]
  },
  {
   "cell_type": "code",
   "execution_count": 16,
   "id": "37ca2c0c-5046-4a76-b1c3-b52890c678b9",
   "metadata": {},
   "outputs": [
    {
     "name": "stdout",
     "output_type": "stream",
     "text": [
      "1\n",
      "sum of first 10 natural number 1\n",
      "2\n",
      "sum of first 10 natural number 3\n",
      "3\n",
      "sum of first 10 natural number 6\n",
      "4\n",
      "sum of first 10 natural number 10\n",
      "5\n",
      "sum of first 10 natural number 15\n",
      "6\n",
      "sum of first 10 natural number 21\n",
      "7\n",
      "sum of first 10 natural number 28\n",
      "8\n",
      "sum of first 10 natural number 36\n",
      "9\n",
      "sum of first 10 natural number 45\n",
      "10\n",
      "sum of first 10 natural number 55\n"
     ]
    }
   ],
   "source": [
    "# sum of first 10 natural number with for loop\n",
    "\n",
    "sum = 0\n",
    "for i in range(1,11):\n",
    "    print(i)\n",
    "    sum = sum+i\n",
    "    print(\"sum of first 10 natural number\",sum)"
   ]
  },
  {
   "cell_type": "code",
   "execution_count": 2,
   "id": "5b3e2976-1570-49be-b231-2bb76fe84722",
   "metadata": {},
   "outputs": [
    {
     "name": "stdout",
     "output_type": "stream",
     "text": [
      "1\n",
      "product is first 10 natural number 1\n",
      "2\n",
      "product is first 10 natural number 2\n",
      "3\n",
      "product is first 10 natural number 6\n",
      "4\n",
      "product is first 10 natural number 24\n",
      "5\n",
      "product is first 10 natural number 120\n",
      "6\n",
      "product is first 10 natural number 720\n",
      "7\n",
      "product is first 10 natural number 5040\n",
      "8\n",
      "product is first 10 natural number 40320\n",
      "9\n",
      "product is first 10 natural number 362880\n",
      "10\n",
      "product is first 10 natural number 3628800\n"
     ]
    }
   ],
   "source": [
    "# product of first 10 natural number with for loop\n",
    "\n",
    "p= 1\n",
    "for i in range(1,11):\n",
    "    print(i)\n",
    "    p =p*i\n",
    "    print(\"product is first 10 natural number\",p)"
   ]
  },
  {
   "cell_type": "markdown",
   "id": "d1626ae6-b7d6-4da6-85b5-ee0ed102349e",
   "metadata": {},
   "source": [
    "# Q3. Create a python program to compute the electricity bill for a household.\n",
    "\n",
    "# The per-unit charges in rupees are as follows: For the first 100 units, the user will be charged Rs. 4.5 per\n",
    "# unit, for the next 100 units, the user will be charged Rs. 6 per unit, and for the next 100 units, the user will\n",
    "# be charged Rs. 10 per unit, After 300 units and above the user will be charged Rs. 20 per unit.\n",
    "# You are required to take the units of electricity consumed in a month from the user as input.\n",
    "# Your program must pass this test case: when the unit of electricity consumed by the user in a month is\n",
    "# 310, the total electricity bill should be 2250."
   ]
  },
  {
   "cell_type": "code",
   "execution_count": 1,
   "id": "e46e8ed2-f68e-4783-a0cc-8d6925983fa3",
   "metadata": {},
   "outputs": [
    {
     "name": "stdin",
     "output_type": "stream",
     "text": [
      "enter your unit 12\n"
     ]
    },
    {
     "name": "stdout",
     "output_type": "stream",
     "text": [
      "your electricity is : 54.0\n"
     ]
    },
    {
     "ename": "SyntaxError",
     "evalue": "'break' outside loop (2115719415.py, line 5)",
     "output_type": "error",
     "traceback": [
      "\u001b[0;36m  Cell \u001b[0;32mIn[1], line 5\u001b[0;36m\u001b[0m\n\u001b[0;31m    break;\u001b[0m\n\u001b[0m    ^\u001b[0m\n\u001b[0;31mSyntaxError\u001b[0m\u001b[0;31m:\u001b[0m 'break' outside loop\n"
     ]
    }
   ],
   "source": [
    "a=int(input(\"enter your unit\"))\n",
    "if a >= 1 and a <= 100:\n",
    "     a = a*4.5\n",
    "print(\"your electricity is :\",a) \n",
    "break;\n",
    "\n",
    "\n",
    "if a >= 101 and  a <= 200:\n",
    "    a =a*6\n",
    "print(\"your electricity is :\",a)\n",
    "break;\n",
    "if a >= 201 and a <= 300:\n",
    "    a =a*10\n",
    "print(\"your electricity is :\",a)\n",
    "break;\n",
    "if a >= 301 and a <= 400:\n",
    "    a = a*20\n",
    "print(\"your electricity is :\",a)\n",
    "\n"
   ]
  },
  {
   "cell_type": "markdown",
   "id": "7d5b980c-7ec0-489d-ac7f-1ca1d3aab178",
   "metadata": {},
   "source": [
    "# Q4. Create a list of numbers from 1 to 100. Use for loop and while loop to calculate the cube of each\n",
    "# number and if the cube of that number is divisible by 4 or 5 then append that number in a list and print\n",
    "# that list."
   ]
  },
  {
   "cell_type": "code",
   "execution_count": 20,
   "id": "fd7e0856-c154-4d93-b127-8be1c2d9c563",
   "metadata": {},
   "outputs": [
    {
     "name": "stdout",
     "output_type": "stream",
     "text": [
      "1\n",
      "8\n",
      "27\n",
      "64\n"
     ]
    },
    {
     "ename": "TypeError",
     "evalue": "'builtin_function_or_method' object is not subscriptable",
     "output_type": "error",
     "traceback": [
      "\u001b[0;31m---------------------------------------------------------------------------\u001b[0m",
      "\u001b[0;31mTypeError\u001b[0m                                 Traceback (most recent call last)",
      "Cell \u001b[0;32mIn[20], line 6\u001b[0m\n\u001b[1;32m      4\u001b[0m \u001b[38;5;28mprint\u001b[39m(i\u001b[38;5;241m*\u001b[39m\u001b[38;5;241m*\u001b[39m\u001b[38;5;241m3\u001b[39m)\n\u001b[1;32m      5\u001b[0m \u001b[38;5;28;01mif\u001b[39;00m i \u001b[38;5;241m%\u001b[39m \u001b[38;5;241m4\u001b[39m \u001b[38;5;241m==\u001b[39m \u001b[38;5;241m0\u001b[39m:\n\u001b[0;32m----> 6\u001b[0m     temp\u001b[38;5;241m=\u001b[39m\u001b[43mtemp\u001b[49m\u001b[38;5;241;43m.\u001b[39;49m\u001b[43mappend\u001b[49m\u001b[43m[\u001b[49m\u001b[43ml\u001b[49m\u001b[43m]\u001b[49m\n\u001b[1;32m      7\u001b[0m     \u001b[38;5;28mprint\u001b[39m(temp)\n",
      "\u001b[0;31mTypeError\u001b[0m: 'builtin_function_or_method' object is not subscriptable"
     ]
    }
   ],
   "source": [
    "# sir i can not understand this question but i am trying\n",
    "temp=[]\n",
    "l = [1,2,3,4,5,6,7,8,9,10,11,12,13,14,15,16,17,18,19,20,21,22,23,24,25,26,27,28,29,30,31,32,33,34,35,36,37,38,39,40,41,42,43,44,45,46,47,48,49,50,51,52,53,54,55,56,57,58,59,60,61,62,63,64,65,66,67,68,69,70,71,72,73,74,75,76,77,78,79,80,81,82,83,84,85,86,87,88,89,90,91,92,93,94,95,96,97,98,99,100]\n",
    "for i in l:\n",
    "    print(i**3)\n",
    "    if i % 4 == 0:\n",
    "        temp=temp.append[l]\n",
    "        print(temp)"
   ]
  },
  {
   "cell_type": "markdown",
   "id": "e82d175c-43d2-4974-9565-86b41a54df52",
   "metadata": {},
   "source": [
    "# Q5. Write a program to filter count vowels in the below-given string.\n",
    "# string = \"I want to become a data scientist\""
   ]
  },
  {
   "cell_type": "code",
   "execution_count": 26,
   "id": "de98f080-76a1-4085-ae50-e80d1f46c10f",
   "metadata": {},
   "outputs": [
    {
     "ename": "SyntaxError",
     "evalue": "invalid syntax (2356392644.py, line 2)",
     "output_type": "error",
     "traceback": [
      "\u001b[0;36m  Cell \u001b[0;32mIn[26], line 2\u001b[0;36m\u001b[0m\n\u001b[0;31m    list(filter(lambda x : if x == string))\u001b[0m\n\u001b[0m                           ^\u001b[0m\n\u001b[0;31mSyntaxError\u001b[0m\u001b[0;31m:\u001b[0m invalid syntax\n"
     ]
    }
   ],
   "source": [
    "\n",
    "# sir i am no understand this question \n",
    "# because then i am ask the question no answer\n",
    "string = \"I want to become a data scientist\"\n",
    "list(filter(lambda x : if x == string))"
   ]
  },
  {
   "cell_type": "code",
   "execution_count": null,
   "id": "8b082daf-48af-4bb4-b76c-41cfd36659bc",
   "metadata": {},
   "outputs": [],
   "source": []
  }
 ],
 "metadata": {
  "kernelspec": {
   "display_name": "Python 3 (ipykernel)",
   "language": "python",
   "name": "python3"
  },
  "language_info": {
   "codemirror_mode": {
    "name": "ipython",
    "version": 3
   },
   "file_extension": ".py",
   "mimetype": "text/x-python",
   "name": "python",
   "nbconvert_exporter": "python",
   "pygments_lexer": "ipython3",
   "version": "3.10.8"
  }
 },
 "nbformat": 4,
 "nbformat_minor": 5
}
